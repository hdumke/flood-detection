{
 "cells": [
  {
   "cell_type": "markdown",
   "metadata": {
    "slideshow": {
     "slide_type": "slide"
    }
   },
   "source": [
    "### Welcome to GEOG 5663 - Earth Analytics Applications!\n",
    "\n",
    "| Time         | Topic                                                   | \n",
    "|--------------|---------------------------------------------------------|\n",
    "| 12:45-1:30pm | Course Schedule and Final Project Guidelines            | \n",
    "| 1:30-2:30pm  | Activity: Render Jupyter Notebook as HTML presentation  | \n",
    "| 2:30-3:30pm  | Time slots available for Project Check-in Meetings      | "
   ]
  },
  {
   "cell_type": "markdown",
   "metadata": {
    "slideshow": {
     "slide_type": "slide"
    }
   },
   "source": [
    "### Course Location & Time\n",
    "* Location: SEEC N125 (distance learning classroom)\n",
    "* Day/Time: Fridays 12:45-3:35pm\n",
    "\n",
    "### Instructor\n",
    "* Instructor: Dr. Jenny Palomino (jenny.palomino@colorado.edu)\n",
    "* Office: SEEC S348\n",
    "\n",
    "### Office Hours\n",
    "* Location: SEEC S348\n",
    "* Day/Time: Tuesdays 3-4:30pm (or by email request)\n"
   ]
  },
  {
   "cell_type": "markdown",
   "metadata": {
    "slideshow": {
     "slide_type": "slide"
    }
   },
   "source": [
    "## Why Take This Course?\n",
    "\n",
    "Through the project deliverables, you will be able to demonstrate that you can:\n",
    "* Use earth systems data to address a scientific question or technical challenge \n",
    "* Apply critical thinking to outline a reproducible workflow that yields the necessary end product(s) of a science project\n",
    "* Use Git and Github.com to collaborate with project partners on tasks and share project deliverables with others \n",
    "* Use Github.com to promote skills and develop an online presence\n",
    "* Apply communication skills to present project objectives and scientific results to interdisciplinary audiences in written and oral formats"
   ]
  },
  {
   "cell_type": "markdown",
   "metadata": {
    "slideshow": {
     "slide_type": "slide"
    }
   },
   "source": [
    "## Project Requirements\n",
    "\n",
    "Projects will: \n",
    "1. address a scientific question or technical challenge using earth and environmental systems data or socio-environmental data (e.g. time series, remotely sensed data, spatially-located data, crowdsourced data).\n",
    "2. outline and execute a reproducible workflow to address the science question or challenge of interest.\n",
    "3. use git/GitHub for version control, collaboration and documentation.\n",
    "4. culminate in a data-driven report of analysis results or another approved end product (e.g. web-based visualization tool, curated database, automated workflow such as cron or Windows job).\n",
    "5. target an ~8 week completion schedule (to be determined and outlined by student and collaborator).\n"
   ]
  },
  {
   "cell_type": "markdown",
   "metadata": {
    "slideshow": {
     "slide_type": "slide"
    }
   },
   "source": [
    "## Grading\n",
    "\n",
    "### Assignments\t\t\t\t\t\t\t\t\t    40%\n",
    "* workflow design and project draft items\n",
    "* project pitch and status presentations\n",
    "* code review\n",
    "\n",
    "### Final Presentation (12 mins) \t        10%\n",
    "* In-person or video recording: 12 mins with 3 mins for questions\n",
    "\n",
    "### Final Project Submission\t\t\t     40%\t\t\n",
    "* Data-driven Report or End Product (20%)\t\t\n",
    "* Github Repository (15%)\n",
    "* Blog Post (5%)\n",
    "\n",
    "### Participation \t\t\t\t\t\t               10%\n",
    "* scheduled submissions to GitHub\n",
    "* peer reviews\n",
    "* participation in class, CANVAS discussions, etc"
   ]
  },
  {
   "cell_type": "markdown",
   "metadata": {
    "slideshow": {
     "slide_type": "slide"
    }
   },
   "source": [
    "<img src=\"http://drive.google.com/uc?export=view&id=1p3ECuSOH8RgHHZJKMCFPJ8_GoGpKdCj0\">"
   ]
  },
  {
   "cell_type": "markdown",
   "metadata": {
    "slideshow": {
     "slide_type": "slide"
    }
   },
   "source": [
    "<img src=\"http://drive.google.com/uc?export=view&id=1qEA50gGiztic2bV4mBanDKaXL_AGMF3c\">"
   ]
  },
  {
   "cell_type": "markdown",
   "metadata": {
    "slideshow": {
     "slide_type": "slide"
    }
   },
   "source": [
    "<img src=\"http://drive.google.com/uc?export=view&id=1cJ7yF_FcCLbl43o7rMIKrYK4xsR0F57O\">"
   ]
  },
  {
   "cell_type": "markdown",
   "metadata": {
    "slideshow": {
     "slide_type": "slide"
    }
   },
   "source": [
    "## Tools to Be Used in Course\n",
    "\n",
    "### git and GitHub for collaboration and reproducibility\n",
    "\n",
    "* Your GitHub repository will a central component of this course, and its organization and documentation is worth 15% of your total grade. \n",
    "\n",
    "* Throughout the course, you will be asked to submit code to your GitHub as well as review code and documentaiton in each other's repositories. \n",
    "\n",
    "    * <a href=\"https://www.earthdatascience.org/workshops/intro-version-control-git/basic-git-commands/\" target=\"_blank\">Need a refresher on using git and GitHub for version control? </a> "
   ]
  },
  {
   "cell_type": "markdown",
   "metadata": {
    "slideshow": {
     "slide_type": "subslide"
    }
   },
   "source": [
    "### Text Editor\n",
    "\n",
    "* For some sessions, such as the one on Modularize and Test Code, you will need a <a href=\"https://www.earthdatascience.org/workshops/setup-earth-analytics-python/text-editors-for-science-workflows/\" target=\"_blank\">text editor</a> to write and modify code in script files (e.g. .py scripts). There are many options, including:\n",
    "    * <a href=\"https://atom.io/\" target=\"_blank\">Atom</a>\n",
    "    * <a href=\"http://www.sublimetext.com/\" target=\"_blank\">Sublime Text</a> \n",
    "    * <a href=\"https://www.nano-editor.org/\" target=\"_blank\">Nano</a>\n",
    "* You can also use an Interactive Development Environment, such as PyCharm, to edit your script files."
   ]
  },
  {
   "cell_type": "markdown",
   "metadata": {
    "slideshow": {
     "slide_type": "subslide"
    }
   },
   "source": [
    "#### Why We Recommend Using Atom\n",
    "\n",
    "If you don’t already have a favorite text editor, we suggest you use Atom because:\n",
    "* It’s free and open source!\n",
    "* It supports Git/Github integration, which makes it easier to collaborate with others to write code, address merge conflicts and to complete other common Git operations.\n",
    "* It has code highlighting support\n",
    "* Atom has an active development community which means lots of extra packages are available to gain extra features.\n",
    "    * For example: Markdown Preview lets you write code in Markdown in a .md file and preview the rendered output in a different window. The Hydrogen package, allows you to run code inline in Atom, similar to Jupyter Notebook."
   ]
  },
  {
   "cell_type": "markdown",
   "metadata": {
    "slideshow": {
     "slide_type": "subslide"
    }
   },
   "source": [
    "### Jupyter Notebook\n",
    "\n",
    "* Your final presentation will be a Jupyter Notebook rendered as an HTML presentation using:\n",
    "    * <a href=\"https://medium.com/learning-machine-learning/present-your-data-science-projects-with-jupyter-slides-75f20735eb0f\" target=\"_blank\">nbconvert</a> (today's activity!) or \n",
    "    * <a href=\"https://medium.com/@Ben_Obe/introduction-to-presenting-with-juypter-with-reveal-js-8e34a07081b2\" target=\"_blank\">reveal.js for Jupyter Notebook</a>. \n",
    "* Your final end product can be a data-driven report created in Jupyter Notebook (or another approved deliverable). \n",
    "    * <a href=\"https://www.earthdatascience.org/courses/earth-analytics-bootcamp/git-github-version-control/manage-jupyter-notebooks/\" target=\"_blank\">Need a refresher on creating and managing Jupyter Notebook files? </a> \n",
    "\n",
    "### Markdown \n",
    "\n",
    "* <a href=\"https://hackmd.io/jbyPk_eiQRGLIDRRfVWfmg?both\" target=\"_blank\">Collaborative Markdown Documents similar to Google Docs</a>\n",
    "* <a href=\"https://www.tablesgenerator.com/markdown_tables\" target=\"_blank\">Generate Markdown Tables from Existing Spreadsheets</a> \n",
    "* <a href=\"https://www.earthdatascience.org/courses/earth-analytics-bootcamp/git-github-version-control/markdown-jupyter-notebook/\" target=\"_blank\">Need a refresher on Markdown in Jupyter Notebook?</a>  "
   ]
  },
  {
   "cell_type": "code",
   "execution_count": 1,
   "metadata": {
    "slideshow": {
     "slide_type": "slide"
    }
   },
   "outputs": [],
   "source": [
    "# Using nbconvert, you can even render code cells and output!\n",
    "import os\n",
    "import folium"
   ]
  },
  {
   "cell_type": "code",
   "execution_count": 2,
   "metadata": {
    "slideshow": {
     "slide_type": "fragment"
    }
   },
   "outputs": [
    {
     "name": "stdout",
     "output_type": "stream",
     "text": [
      "/home/jpalomino/git/presentations\n"
     ]
    }
   ],
   "source": [
    "print(os.getcwd())"
   ]
  },
  {
   "cell_type": "code",
   "execution_count": 6,
   "metadata": {
    "slideshow": {
     "slide_type": "slide"
    }
   },
   "outputs": [],
   "source": [
    "# Note that using reveal.js allows you to write/run code interactively in presentation mode!\n"
   ]
  },
  {
   "cell_type": "code",
   "execution_count": 3,
   "metadata": {
    "slideshow": {
     "slide_type": "slide"
    }
   },
   "outputs": [
    {
     "data": {
      "text/html": [
       "<div style=\"width:100%;\"><div style=\"position:relative;width:100%;height:0;padding-bottom:60%;\"><iframe src=\"data:text/html;charset=utf-8;base64,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\" style=\"position:absolute;width:100%;height:100%;left:0;top:0;border:none !important;\" allowfullscreen webkitallowfullscreen mozallowfullscreen></iframe></div></div>"
      ],
      "text/plain": [
       "<folium.folium.Map at 0x7f658623cc88>"
      ]
     },
     "execution_count": 3,
     "metadata": {},
     "output_type": "execute_result"
    }
   ],
   "source": [
    "# Including rendering of interactive maps, plots, and all other code!\n",
    "map_osm = folium.Map(location=[40.0150, -105.2705])\n",
    "map_osm"
   ]
  },
  {
   "cell_type": "markdown",
   "metadata": {
    "slideshow": {
     "slide_type": "slide"
    }
   },
   "source": [
    "## Final Presentation (Fri, Apr 19th during class)\n",
    "\n",
    "1. In-person or video recording\n",
    "2. 12 min presentation with 3 mins for questions\n",
    "3. Format: Jupyter Notebook rendered as HTML presentation using nbconvert or reveal.js\n",
    "    * if your end product is a data-driven report, your presentation can be a modified version of your final project Jupyter Notebook"
   ]
  },
  {
   "cell_type": "markdown",
   "metadata": {
    "slideshow": {
     "slide_type": "slide"
    }
   },
   "source": [
    "## Final Project Submission (Mon, May 6th at 5pm)\n",
    "\n",
    "1. Data-driven report of analysis results (Jupyter Notebook) or another approved end product\n",
    "    *  including but not limited to web-based visualization tool, curated database, automated workflow such as cron or Windows job\n",
    "    * alternative to data-driven report needs to be approved by instructor\n",
    "2. Github Repository\n",
    "    * graded on organization and documentation\n",
    "    * full grading criteria to be posted on CANVAS\n",
    "3. Blog Post\n",
    "    * short summary of the project with carefully selected images\n",
    "    * to be published on earthdatascience.org website\n",
    "    * details to be posted on CANVAS"
   ]
  },
  {
   "cell_type": "markdown",
   "metadata": {
    "slideshow": {
     "slide_type": "slide"
    }
   },
   "source": [
    "# Questions or Comments?"
   ]
  },
  {
   "cell_type": "markdown",
   "metadata": {
    "slideshow": {
     "slide_type": "slide"
    }
   },
   "source": [
    "## Let's Play With nbconvert\n",
    "\n",
    "* Create a Jupyter Notebook, and add the following details in 3 individual Markdown cells:\n",
    "    * Your name and some bio information (e.g. department, employer)\n",
    "    * Your project partner/advisor (or potential if still in discussion) and project idea\n",
    "        * 2-3 bullet points that briefly provide the gist of the project idea\n",
    "        * could be your technical goals for the project (e.g. what do you want to learn?)\n",
    "    * One professional goal for this course (e.g. where would you like this project to lead you?)"
   ]
  },
  {
   "cell_type": "markdown",
   "metadata": {
    "slideshow": {
     "slide_type": "subslide"
    }
   },
   "source": [
    "* Next, activate the Slide options in Jupyter Notebook by selecting View > Cell Toolbar > Slideshow from the top menu.\n",
    "* Then, for each cell, change Slide Type to Slide. Save and shutdown your Jupyter Notebook. \n",
    "* In the terminal, navigate to the directory where you created your Jupyter Notebook and type: \n",
    "\n",
    "```bash\n",
    "jupyter nbconvert name-of-your-notebook.ipynb --to slides --post serve\n",
    "```\n",
    "\n",
    "You are now running a local web server to render your Jupyter Notebook as HTML presentation slides!\n",
    "\n",
    "When you are done making changes, **email your .ipynb to jenny.palomino@colorado.edu.** \n",
    "\n",
    "### Bonus\n",
    "\n",
    "Play with the Slide Types to create sub-slides (which use the up/down arrows to advance) and fragments (which use the default left/right arrows to advance)."
   ]
  },
  {
   "cell_type": "markdown",
   "metadata": {
    "slideshow": {
     "slide_type": "slide"
    }
   },
   "source": [
    "### More Resources\n",
    "\n",
    "If you want to have an interactive HTML presentation, you can install \n",
    "<a href=\"https://medium.com/@Ben_Obe/introduction-to-presenting-with-juypter-with-reveal-js-8e34a07081b2\" target=\"_blank\">reveal.js for Jupyter Notebook</a>. \n",
    "\n",
    "You can also check out the GitHub Pages section on <a href=\"https://medium.com/learning-machine-learning/present-your-data-science-projects-with-jupyter-slides-75f20735eb0f\" target=\"_blank\">this useful tutorial on using nbconvert in Jupyter Notebook</a> to learn how to publish your presentation online. "
   ]
  },
  {
   "cell_type": "markdown",
   "metadata": {},
   "source": [
    "### Assigments for January 25th, 2018 by noon\n",
    "\n",
    "1. Bio (and optional photo) for Earth Lab website\n",
    "    * <a href=\"http://ds421.berkeley.edu/people-2/trainees/\" target=\"_blank\">example site </a> \n",
    "2. Check-in with instructor (in-person or via Zoom)\n",
    "    * Sign up for a 15 min time slot <a href=\"https://doodle.com/poll/39edsciqc8u4kdqh\" target=\"_blank\">here</a>\n",
    "    * Tuesday meetings will be exclusively on Zoom\n",
    "    * Zoom information will be same as Office Hours, not course meetings\n",
    "    \n",
    "More details available on CANVAS."
   ]
  }
 ],
 "metadata": {
  "celltoolbar": "Slideshow",
  "kernelspec": {
   "display_name": "Python 3",
   "language": "python",
   "name": "python3"
  },
  "language_info": {
   "codemirror_mode": {
    "name": "ipython",
    "version": 3
   },
   "file_extension": ".py",
   "mimetype": "text/x-python",
   "name": "python",
   "nbconvert_exporter": "python",
   "pygments_lexer": "ipython3",
   "version": "3.6.5"
  }
 },
 "nbformat": 4,
 "nbformat_minor": 2
}
